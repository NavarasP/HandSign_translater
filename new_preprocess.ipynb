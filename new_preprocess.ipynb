{
 "cells": [
  {
   "cell_type": "code",
   "execution_count": 1,
   "metadata": {},
   "outputs": [],
   "source": [
    "import pandas as pd\n",
    "import csv\n",
    "import pyarrow.parquet as pq\n",
    "import numpy as np\n",
    "import os\n",
    "import json\n"
   ]
  },
  {
   "cell_type": "code",
   "execution_count": 2,
   "metadata": {},
   "outputs": [],
   "source": [
    "max_left_hand_index = 20\n",
    "max_right_hand_index = 20\n",
    "max_pose_index = 32"
   ]
  },
  {
   "cell_type": "code",
   "execution_count": 3,
   "metadata": {},
   "outputs": [],
   "source": [
    "left_hand_columns = [f\"left_hand_{i}\" for i in range(max_left_hand_index + 1)]\n",
    "right_hand_columns = [f\"right_hand_{i}\" for i in range(max_right_hand_index + 1)]\n",
    "pose_columns = [f\"pose_{i}\" for i in range(max_pose_index + 1)]\n",
    "\n",
    "\n",
    "# Combine all column headers into a single list\n",
    "all_columns = [f\"{col}_{coord}\" for col in left_hand_columns for coord in ['x', 'y','z']] + \\\n",
    "              [f\"{col}_{coord}\" for col in right_hand_columns for coord in ['x', 'y','z']] + \\\n",
    "              [f\"{col}_{coord}\" for col in pose_columns for coord in ['x', 'y','z']] + \\\n",
    "              ['label']\n"
   ]
  },
  {
   "cell_type": "code",
   "execution_count": 4,
   "metadata": {},
   "outputs": [],
   "source": [
    "train_df = pd.read_csv('Dataset_CSVs/train.csv')"
   ]
  },
  {
   "cell_type": "code",
   "execution_count": 5,
   "metadata": {},
   "outputs": [],
   "source": [
    "selected_words = [\"TV\", \"after\",  \"all\", \"alligator\", \"animal\", \"another\", \"any\", \"apple\", \"arm\"]\n",
    "# selected_words = [\"TV\", \"after\", \"airplane\", \"all\", \"alligator\"]\n",
    "\n",
    "# Filter the dataframe to include only the selected words\n",
    "filtered_df = train_df[train_df['sign'].isin(selected_words)]\n",
    "\n",
    "# Group by 'sign' and select 10 sequences for each word\n",
    "sub_df = filtered_df.groupby('sign').head(15)"
   ]
  },
  {
   "cell_type": "code",
   "execution_count": 6,
   "metadata": {},
   "outputs": [
    {
     "name": "stdout",
     "output_type": "stream",
     "text": [
      "Data has been successfully written to Dataset_CSVs/ASL_word_data_xyz.csv\n"
     ]
    }
   ],
   "source": [
    "\n",
    "\n",
    "# Initialize an empty list to store all rows of data\n",
    "all_rows = []\n",
    "\n",
    "# Iterate through each row in sub_df\n",
    "for index, row in sub_df.iterrows():\n",
    "    path = row['path']\n",
    "    label = row['sign']\n",
    "    \n",
    "    # Read the Parquet file using PyArrow\n",
    "    table = pq.read_table(path)\n",
    "    \n",
    "    # Convert PyArrow Table to Pandas DataFrame\n",
    "    df = table.to_pandas()\n",
    "    \n",
    "    # Initialize a list to store rows of data\n",
    "    rows = []\n",
    "    \n",
    "    # Iterate through each unique frame\n",
    "    for frame in df['frame'].unique():\n",
    "        # Filter rows for the current frame\n",
    "        subset_df = df[df['frame'] == frame]\n",
    "        \n",
    "        # Initialize dictionaries to store landmarks\n",
    "        face_dict = {}\n",
    "        left_hand_dict = {}\n",
    "        right_hand_dict = {}\n",
    "        pose_dict = {}\n",
    "        \n",
    "        # Iterate through rows in subset_df and populate dictionaries\n",
    "        for idx, row in subset_df.iterrows():\n",
    "            landmark_type = row['type']\n",
    "            landmark_index = row['landmark_index']\n",
    "            x = row['x']\n",
    "            y = row['y']\n",
    "            z = row['z']\n",
    "            \n",
    "            if landmark_type == 'left_hand':\n",
    "                left_hand_dict[f\"left_hand_{landmark_index}_x\"] = x\n",
    "                left_hand_dict[f\"left_hand_{landmark_index}_y\"] = y\n",
    "                left_hand_dict[f\"left_hand_{landmark_index}_z\"] = z\n",
    "            elif landmark_type == 'right_hand':\n",
    "                right_hand_dict[f\"right_hand_{landmark_index}_x\"] = x\n",
    "                right_hand_dict[f\"right_hand_{landmark_index}_y\"] = y\n",
    "                right_hand_dict[f\"right_hand_{landmark_index}_z\"] = z\n",
    "            elif landmark_type == 'pose':\n",
    "                pose_dict[f\"pose_{landmark_index}_x\"] = x\n",
    "                pose_dict[f\"pose_{landmark_index}_y\"] = y\n",
    "                pose_dict[f\"pose_{landmark_index}_z\"] = z\n",
    "        \n",
    "        # Combine dictionaries into a single row of data\n",
    "        row_data = {\n",
    "            **left_hand_dict,\n",
    "            **right_hand_dict,\n",
    "            **pose_dict,\n",
    "            'label': label,\n",
    "        }\n",
    "        \n",
    "        # Append row_data to rows list\n",
    "        rows.append(row_data)\n",
    "    \n",
    "    # Extend rows to all_rows\n",
    "    all_rows.extend(rows)\n",
    "\n",
    "# Define CSV file path\n",
    "csv_file = 'Dataset_CSVs/ASL_word_data_xyz.csv'\n",
    "\n",
    "# Define column headers as the union of keys from all row_data dictionaries\n",
    "# header = ['frame'] + sorted(set().union(*(row.keys() for row in all_rows)))\n",
    "\n",
    "# Write rows to CSV file\n",
    "with open(csv_file, 'w', newline='') as f:\n",
    "    writer = csv.DictWriter(f, fieldnames=all_columns)\n",
    "    writer.writeheader()\n",
    "    \n",
    "    # Iterate through all_rows and write each row to CSV\n",
    "    for row_data in all_rows:\n",
    "        # Round numerical values to 3 decimal places\n",
    "        rounded_row_data = {key: round(value, 6) if isinstance(value, (int, float)) else value for key, value in row_data.items()}\n",
    "        \n",
    "        # Replace NaN values with 0.0\n",
    "        cleaned_row_data = {key: (0.0 if pd.isna(value) else value) for key, value in rounded_row_data.items()}\n",
    "        \n",
    "        # Write the row to CSV\n",
    "        writer.writerow(cleaned_row_data)\n",
    "\n",
    "print(f\"Data has been successfully written to {csv_file}\")\n"
   ]
  },
  {
   "cell_type": "code",
   "execution_count": null,
   "metadata": {},
   "outputs": [],
   "source": []
  },
  {
   "cell_type": "code",
   "execution_count": 1,
   "metadata": {},
   "outputs": [],
   "source": [
    "import pandas as pd\n",
    "import matplotlib.pyplot as plt\n",
    "from mpl_toolkits.mplot3d import Axes3D\n",
    "import mediapipe as mp\n",
    "\n",
    "# Load the data from the CSV file\n",
    "df = pd.read_csv('Dataset_CSVs/ASL_word_data_xyz.csv')\n",
    "\n",
    "# Define landmark columns\n",
    "left_hand_columns = [f\"left_hand_{i}\" for i in range(21)]\n",
    "right_hand_columns = [f\"right_hand_{i}\" for i in range(21)]\n",
    "pose_columns = [f\"pose_{i}\" for i in range(33)]\n",
    "\n",
    "left_hand_coords = [f\"{col}_{coord}\" for col in left_hand_columns for coord in ['x', 'y']]\n",
    "right_hand_coords = [f\"{col}_{coord}\" for col in right_hand_columns for coord in ['x', 'y', 'z']]\n",
    "pose_coords = [f\"{col}_{coord}\" for col in pose_columns for coord in ['x', 'y', 'z']]\n",
    "\n"
   ]
  },
  {
   "cell_type": "code",
   "execution_count": 2,
   "metadata": {},
   "outputs": [],
   "source": [
    "\n",
    "# Extract left hand coordinates and reshape into array\n",
    "left_hand_coords_array = df[left_hand_coords].values.reshape(-1, 2)"
   ]
  },
  {
   "cell_type": "code",
   "execution_count": 3,
   "metadata": {},
   "outputs": [
    {
     "data": {
      "text/plain": [
       "array([[0.748716, 0.741321],\n",
       "       [0.621914, 0.719244],\n",
       "       [0.556285, 0.679997],\n",
       "       [0.534262, 0.63844 ],\n",
       "       [0.539414, 0.603286],\n",
       "       [0.615002, 0.580789],\n",
       "       [0.537981, 0.572434],\n",
       "       [0.538763, 0.621508],\n",
       "       [0.571877, 0.652171],\n",
       "       [0.637226, 0.571116],\n",
       "       [0.548088, 0.567712],\n",
       "       [0.549698, 0.621983],\n",
       "       [0.584102, 0.652726],\n",
       "       [0.658923, 0.56835 ],\n",
       "       [0.556113, 0.570421],\n",
       "       [0.563516, 0.627174],\n",
       "       [0.602569, 0.656123],\n",
       "       [0.676836, 0.575986],\n",
       "       [0.576764, 0.5778  ],\n",
       "       [0.580324, 0.626662],\n",
       "       [0.616504, 0.656087]])"
      ]
     },
     "execution_count": 3,
     "metadata": {},
     "output_type": "execute_result"
    }
   ],
   "source": [
    "left_hand_coords_array"
   ]
  },
  {
   "cell_type": "code",
   "execution_count": 4,
   "metadata": {},
   "outputs": [
    {
     "ename": "ValueError",
     "evalue": "The truth value of an array with more than one element is ambiguous. Use a.any() or a.all()",
     "output_type": "error",
     "traceback": [
      "\u001b[1;31m---------------------------------------------------------------------------\u001b[0m",
      "\u001b[1;31mValueError\u001b[0m                                Traceback (most recent call last)",
      "Cell \u001b[1;32mIn[4], line 19\u001b[0m\n\u001b[0;32m     16\u001b[0m     plt\u001b[38;5;241m.\u001b[39mshow()\n\u001b[0;32m     18\u001b[0m \u001b[38;5;66;03m# Example usage: Plot the left hand landmarks\u001b[39;00m\n\u001b[1;32m---> 19\u001b[0m \u001b[43mplot_left_hand_mediapipe\u001b[49m\u001b[43m(\u001b[49m\u001b[43mleft_hand_coords_array\u001b[49m\u001b[43m)\u001b[49m\n",
      "Cell \u001b[1;32mIn[4], line 9\u001b[0m, in \u001b[0;36mplot_left_hand_mediapipe\u001b[1;34m(landmarks)\u001b[0m\n\u001b[0;32m      6\u001b[0m fig, ax \u001b[38;5;241m=\u001b[39m plt\u001b[38;5;241m.\u001b[39msubplots(figsize\u001b[38;5;241m=\u001b[39m(\u001b[38;5;241m6\u001b[39m, \u001b[38;5;241m6\u001b[39m))\n\u001b[0;32m      8\u001b[0m \u001b[38;5;66;03m# Draw connections between keypoints\u001b[39;00m\n\u001b[1;32m----> 9\u001b[0m \u001b[43mmp_drawing\u001b[49m\u001b[38;5;241;43m.\u001b[39;49m\u001b[43mdraw_landmarks\u001b[49m\u001b[43m(\u001b[49m\n\u001b[0;32m     10\u001b[0m \u001b[43m    \u001b[49m\u001b[43max\u001b[49m\u001b[43m,\u001b[49m\u001b[43m \u001b[49m\u001b[43mlandmarks\u001b[49m\u001b[43m,\u001b[49m\u001b[43m \u001b[49m\u001b[43mmp\u001b[49m\u001b[38;5;241;43m.\u001b[39;49m\u001b[43msolutions\u001b[49m\u001b[38;5;241;43m.\u001b[39;49m\u001b[43mholistic\u001b[49m\u001b[38;5;241;43m.\u001b[39;49m\u001b[43mHAND_CONNECTIONS\u001b[49m\u001b[43m,\u001b[49m\n\u001b[0;32m     11\u001b[0m \u001b[43m    \u001b[49m\u001b[43mlandmark_drawing_spec\u001b[49m\u001b[38;5;241;43m=\u001b[39;49m\u001b[38;5;28;43;01mNone\u001b[39;49;00m\u001b[43m,\u001b[49m\u001b[43m \u001b[49m\u001b[43mconnection_drawing_spec\u001b[49m\u001b[38;5;241;43m=\u001b[39;49m\u001b[38;5;28;43;01mNone\u001b[39;49;00m\n\u001b[0;32m     12\u001b[0m \u001b[43m\u001b[49m\u001b[43m)\u001b[49m\n\u001b[0;32m     13\u001b[0m ax\u001b[38;5;241m.\u001b[39mset_title(\u001b[38;5;124m'\u001b[39m\u001b[38;5;124mLeft Hand Landmarks\u001b[39m\u001b[38;5;124m'\u001b[39m)\n\u001b[0;32m     14\u001b[0m ax\u001b[38;5;241m.\u001b[39mset_aspect(\u001b[38;5;124m'\u001b[39m\u001b[38;5;124mequal\u001b[39m\u001b[38;5;124m'\u001b[39m)\n",
      "File \u001b[1;32md:\\Projects\\AIML\\HandSign\\env2\\lib\\site-packages\\mediapipe\\python\\solutions\\drawing_utils.py:155\u001b[0m, in \u001b[0;36mdraw_landmarks\u001b[1;34m(image, landmark_list, connections, landmark_drawing_spec, connection_drawing_spec, is_drawing_landmarks)\u001b[0m\n\u001b[0;32m    119\u001b[0m \u001b[38;5;28;01mdef\u001b[39;00m \u001b[38;5;21mdraw_landmarks\u001b[39m(\n\u001b[0;32m    120\u001b[0m     image: np\u001b[38;5;241m.\u001b[39mndarray,\n\u001b[0;32m    121\u001b[0m     landmark_list: landmark_pb2\u001b[38;5;241m.\u001b[39mNormalizedLandmarkList,\n\u001b[1;32m   (...)\u001b[0m\n\u001b[0;32m    129\u001b[0m     is_drawing_landmarks: \u001b[38;5;28mbool\u001b[39m \u001b[38;5;241m=\u001b[39m \u001b[38;5;28;01mTrue\u001b[39;00m,\n\u001b[0;32m    130\u001b[0m ):\n\u001b[0;32m    131\u001b[0m \u001b[38;5;250m  \u001b[39m\u001b[38;5;124;03m\"\"\"Draws the landmarks and the connections on the image.\u001b[39;00m\n\u001b[0;32m    132\u001b[0m \n\u001b[0;32m    133\u001b[0m \u001b[38;5;124;03m  Args:\u001b[39;00m\n\u001b[1;32m   (...)\u001b[0m\n\u001b[0;32m    153\u001b[0m \u001b[38;5;124;03m      b) If any connetions contain invalid landmark index.\u001b[39;00m\n\u001b[0;32m    154\u001b[0m \u001b[38;5;124;03m  \"\"\"\u001b[39;00m\n\u001b[1;32m--> 155\u001b[0m   \u001b[38;5;28;01mif\u001b[39;00m \u001b[38;5;129;01mnot\u001b[39;00m landmark_list:\n\u001b[0;32m    156\u001b[0m     \u001b[38;5;28;01mreturn\u001b[39;00m\n\u001b[0;32m    157\u001b[0m   \u001b[38;5;28;01mif\u001b[39;00m image\u001b[38;5;241m.\u001b[39mshape[\u001b[38;5;241m2\u001b[39m] \u001b[38;5;241m!=\u001b[39m _BGR_CHANNELS:\n",
      "\u001b[1;31mValueError\u001b[0m: The truth value of an array with more than one element is ambiguous. Use a.any() or a.all()"
     ]
    },
    {
     "data": {
      "image/png": "[encoded data removed]",
      "text/plain": [
       "<Figure size 600x600 with 1 Axes>"
      ]
     },
     "metadata": {},
     "output_type": "display_data"
    }
   ],
   "source": [
    "# MediaPipe drawing utilities\n",
    "mp_drawing = mp.solutions.drawing_utils\n",
    "\n",
    "# Function to plot left hand landmarks using MediaPipe drawing techniques\n",
    "def plot_left_hand_mediapipe(landmarks):\n",
    "    fig, ax = plt.subplots(figsize=(6, 6))\n",
    "    \n",
    "    # Draw connections between keypoints\n",
    "    mp_drawing.draw_landmarks(\n",
    "        ax, landmarks, mp.solutions.holistic.HAND_CONNECTIONS,\n",
    "        landmark_drawing_spec=None, connection_drawing_spec=None\n",
    "    )\n",
    "    ax.set_title('Left Hand Landmarks')\n",
    "    ax.set_aspect('equal')\n",
    "    ax.invert_yaxis()  # Invert Y axis to match the MediaPipe coordinate system\n",
    "    plt.show()\n",
    "\n",
    "# Example usage: Plot the left hand landmarks\n",
    "plot_left_hand_mediapipe(left_hand_coords_array)"
   ]
  },
  {
   "cell_type": "code",
   "execution_count": 5,
   "metadata": {},
   "outputs": [
    {
     "ename": "ValueError",
     "evalue": "The truth value of an array with more than one element is ambiguous. Use a.any() or a.all()",
     "output_type": "error",
     "traceback": [
      "\u001b[1;31m---------------------------------------------------------------------------\u001b[0m",
      "\u001b[1;31mValueError\u001b[0m                                Traceback (most recent call last)",
      "Cell \u001b[1;32mIn[5], line 40\u001b[0m\n\u001b[0;32m     38\u001b[0m \u001b[38;5;66;03m# Plot each row of landmarks separately\u001b[39;00m\n\u001b[0;32m     39\u001b[0m \u001b[38;5;28;01mfor\u001b[39;00m idx, row \u001b[38;5;129;01min\u001b[39;00m df\u001b[38;5;241m.\u001b[39miterrows():\n\u001b[1;32m---> 40\u001b[0m     \u001b[43mplot_row_mediapipe\u001b[49m\u001b[43m(\u001b[49m\u001b[43mrow\u001b[49m\u001b[43m)\u001b[49m\n",
      "Cell \u001b[1;32mIn[5], line 25\u001b[0m, in \u001b[0;36mplot_row_mediapipe\u001b[1;34m(row)\u001b[0m\n\u001b[0;32m     23\u001b[0m \u001b[38;5;66;03m# Plot left hand\u001b[39;00m\n\u001b[0;32m     24\u001b[0m left_hand \u001b[38;5;241m=\u001b[39m row[left_hand_coords]\u001b[38;5;241m.\u001b[39mvalues\u001b[38;5;241m.\u001b[39mreshape(\u001b[38;5;241m-\u001b[39m\u001b[38;5;241m1\u001b[39m, \u001b[38;5;241m3\u001b[39m)\n\u001b[1;32m---> 25\u001b[0m \u001b[43mplot_landmarks_mediapipe\u001b[49m\u001b[43m(\u001b[49m\u001b[43maxs\u001b[49m\u001b[43m[\u001b[49m\u001b[38;5;241;43m0\u001b[39;49m\u001b[43m]\u001b[49m\u001b[43m,\u001b[49m\u001b[43m \u001b[49m\u001b[43mleft_hand\u001b[49m\u001b[43m,\u001b[49m\u001b[43m \u001b[49m\u001b[43mmp_holistic\u001b[49m\u001b[38;5;241;43m.\u001b[39;49m\u001b[43mHAND_CONNECTIONS\u001b[49m\u001b[43m,\u001b[49m\u001b[43m \u001b[49m\u001b[38;5;124;43m'\u001b[39;49m\u001b[38;5;124;43mLeft Hand\u001b[39;49m\u001b[38;5;124;43m'\u001b[39;49m\u001b[43m)\u001b[49m\n\u001b[0;32m     27\u001b[0m \u001b[38;5;66;03m# Plot right hand\u001b[39;00m\n\u001b[0;32m     28\u001b[0m right_hand \u001b[38;5;241m=\u001b[39m row[right_hand_coords]\u001b[38;5;241m.\u001b[39mvalues\u001b[38;5;241m.\u001b[39mreshape(\u001b[38;5;241m-\u001b[39m\u001b[38;5;241m1\u001b[39m, \u001b[38;5;241m3\u001b[39m)\n",
      "Cell \u001b[1;32mIn[5], line 9\u001b[0m, in \u001b[0;36mplot_landmarks_mediapipe\u001b[1;34m(ax, landmarks, connections, title)\u001b[0m\n\u001b[0;32m      5\u001b[0m \u001b[38;5;28;01mdef\u001b[39;00m \u001b[38;5;21mplot_landmarks_mediapipe\u001b[39m(ax, landmarks, connections, title):\n\u001b[0;32m      6\u001b[0m     \u001b[38;5;66;03m# Check if landmarks array is not empty\u001b[39;00m\n\u001b[0;32m      7\u001b[0m     \u001b[38;5;28;01mif\u001b[39;00m landmarks\u001b[38;5;241m.\u001b[39many():\n\u001b[0;32m      8\u001b[0m         \u001b[38;5;66;03m# Draw connections between keypoints\u001b[39;00m\n\u001b[1;32m----> 9\u001b[0m         \u001b[43mmp_drawing\u001b[49m\u001b[38;5;241;43m.\u001b[39;49m\u001b[43mdraw_landmarks\u001b[49m\u001b[43m(\u001b[49m\n\u001b[0;32m     10\u001b[0m \u001b[43m            \u001b[49m\u001b[43max\u001b[49m\u001b[43m,\u001b[49m\u001b[43m \u001b[49m\u001b[43mlandmarks\u001b[49m\u001b[43m,\u001b[49m\u001b[43m \u001b[49m\u001b[43mconnections\u001b[49m\u001b[43m,\u001b[49m\n\u001b[0;32m     11\u001b[0m \u001b[43m            \u001b[49m\u001b[43mlandmark_drawing_spec\u001b[49m\u001b[38;5;241;43m=\u001b[39;49m\u001b[38;5;28;43;01mNone\u001b[39;49;00m\u001b[43m,\u001b[49m\u001b[43m \u001b[49m\u001b[43mconnection_drawing_spec\u001b[49m\u001b[38;5;241;43m=\u001b[39;49m\u001b[38;5;28;43;01mNone\u001b[39;49;00m\n\u001b[0;32m     12\u001b[0m \u001b[43m        \u001b[49m\u001b[43m)\u001b[49m\n\u001b[0;32m     13\u001b[0m         ax\u001b[38;5;241m.\u001b[39mset_title(title)\n\u001b[0;32m     14\u001b[0m         ax\u001b[38;5;241m.\u001b[39mset_aspect(\u001b[38;5;124m'\u001b[39m\u001b[38;5;124mequal\u001b[39m\u001b[38;5;124m'\u001b[39m)\n",
      "File \u001b[1;32md:\\Projects\\AIML\\HandSign\\env2\\lib\\site-packages\\mediapipe\\python\\solutions\\drawing_utils.py:155\u001b[0m, in \u001b[0;36mdraw_landmarks\u001b[1;34m(image, landmark_list, connections, landmark_drawing_spec, connection_drawing_spec, is_drawing_landmarks)\u001b[0m\n\u001b[0;32m    119\u001b[0m \u001b[38;5;28;01mdef\u001b[39;00m \u001b[38;5;21mdraw_landmarks\u001b[39m(\n\u001b[0;32m    120\u001b[0m     image: np\u001b[38;5;241m.\u001b[39mndarray,\n\u001b[0;32m    121\u001b[0m     landmark_list: landmark_pb2\u001b[38;5;241m.\u001b[39mNormalizedLandmarkList,\n\u001b[1;32m   (...)\u001b[0m\n\u001b[0;32m    129\u001b[0m     is_drawing_landmarks: \u001b[38;5;28mbool\u001b[39m \u001b[38;5;241m=\u001b[39m \u001b[38;5;28;01mTrue\u001b[39;00m,\n\u001b[0;32m    130\u001b[0m ):\n\u001b[0;32m    131\u001b[0m \u001b[38;5;250m  \u001b[39m\u001b[38;5;124;03m\"\"\"Draws the landmarks and the connections on the image.\u001b[39;00m\n\u001b[0;32m    132\u001b[0m \n\u001b[0;32m    133\u001b[0m \u001b[38;5;124;03m  Args:\u001b[39;00m\n\u001b[1;32m   (...)\u001b[0m\n\u001b[0;32m    153\u001b[0m \u001b[38;5;124;03m      b) If any connetions contain invalid landmark index.\u001b[39;00m\n\u001b[0;32m    154\u001b[0m \u001b[38;5;124;03m  \"\"\"\u001b[39;00m\n\u001b[1;32m--> 155\u001b[0m   \u001b[38;5;28;01mif\u001b[39;00m \u001b[38;5;129;01mnot\u001b[39;00m landmark_list:\n\u001b[0;32m    156\u001b[0m     \u001b[38;5;28;01mreturn\u001b[39;00m\n\u001b[0;32m    157\u001b[0m   \u001b[38;5;28;01mif\u001b[39;00m image\u001b[38;5;241m.\u001b[39mshape[\u001b[38;5;241m2\u001b[39m] \u001b[38;5;241m!=\u001b[39m _BGR_CHANNELS:\n",
      "\u001b[1;31mValueError\u001b[0m: The truth value of an array with more than one element is ambiguous. Use a.any() or a.all()"
     ]
    },
    {
     "data": {
      "image/png": "[encoded data removed]",
      "text/plain": [
       "<Figure size 1500x500 with 3 Axes>"
      ]
     },
     "metadata": {},
     "output_type": "display_data"
    }
   ],
   "source": [
    "# MediaPipe drawing utilities\n",
    "mp_drawing = mp.solutions.drawing_utils\n",
    "mp_holistic = mp.solutions.holistic\n",
    "\n",
    "def plot_landmarks_mediapipe(ax, landmarks, connections, title):\n",
    "    # Check if landmarks array is not empty\n",
    "    if landmarks.any():\n",
    "        # Draw connections between keypoints\n",
    "        mp_drawing.draw_landmarks(\n",
    "            ax, landmarks, connections,\n",
    "            landmark_drawing_spec=None, connection_drawing_spec=None\n",
    "        )\n",
    "        ax.set_title(title)\n",
    "        ax.set_aspect('equal')\n",
    "        ax.invert_yaxis()  # Invert Y axis to match the MediaPipe coordinate system\n",
    "    else:\n",
    "        ax.set_title(title + ' (Empty)')\n",
    "        ax.axis('off')\n",
    "\n",
    "def plot_row_mediapipe(row):\n",
    "    fig, axs = plt.subplots(1, 3, figsize=(15, 5))\n",
    "    \n",
    "    # Plot left hand\n",
    "    left_hand = row[left_hand_coords].values.reshape(-1, 3)\n",
    "    plot_landmarks_mediapipe(axs[0], left_hand, mp_holistic.HAND_CONNECTIONS, 'Left Hand')\n",
    "    \n",
    "    # Plot right hand\n",
    "    right_hand = row[right_hand_coords].values.reshape(-1, 3)\n",
    "    plot_landmarks_mediapipe(axs[1], right_hand, mp_holistic.HAND_CONNECTIONS, 'Right Hand')\n",
    "    \n",
    "    # Plot pose\n",
    "    pose = row[pose_coords].values.reshape(-1, 3)\n",
    "    plot_landmarks_mediapipe(axs[2], pose, mp_holistic.POSE_CONNECTIONS, 'Pose')\n",
    "    \n",
    "    plt.tight_layout()\n",
    "    plt.show()\n",
    "\n",
    "# Plot each row of landmarks separately\n",
    "for idx, row in df.iterrows():\n",
    "    plot_row_mediapipe(row)\n",
    "\n"
   ]
  },
  {
   "cell_type": "code",
   "execution_count": null,
   "metadata": {},
   "outputs": [],
   "source": []
  }
 ],
 "metadata": {
  "kernelspec": {
   "display_name": "env",
   "language": "python",
   "name": "python3"
  },
  "language_info": {
   "codemirror_mode": {
    "name": "ipython",
    "version": 3
   },
   "file_extension": ".py",
   "mimetype": "text/x-python",
   "name": "python",
   "nbconvert_exporter": "python",
   "pygments_lexer": "ipython3",
   "version": "3.10.0"
  }
 },
 "nbformat": 4,
 "nbformat_minor": 2
}
