{
 "cells": [
  {
   "cell_type": "markdown",
   "metadata": {},
   "source": [
    "### Load Necessary Libraries"
   ]
  },
  {
   "cell_type": "code",
   "execution_count": 1,
   "metadata": {},
   "outputs": [],
   "source": [
    "import pandas as pd\n",
    "import csv\n",
    "import pyarrow.parquet as pq"
   ]
  },
  {
   "cell_type": "markdown",
   "metadata": {},
   "source": [
    "### Define Column Headers for Landmarks"
   ]
  },
  {
   "cell_type": "code",
   "execution_count": 2,
   "metadata": {},
   "outputs": [],
   "source": [
    "# Define maximum indices for each landmark type\n",
    "\n",
    "max_face_index = 467\n",
    "max_left_hand_index = 20\n",
    "max_right_hand_index = 20\n",
    "max_pose_index = 32"
   ]
  },
  {
   "cell_type": "code",
   "execution_count": 3,
   "metadata": {},
   "outputs": [],
   "source": [
    "# Create the list of column headers for  landmarks\n",
    "\n",
    "face_columns = [f\"face_{i}\" for i in range(max_face_index + 1)]\n",
    "left_hand_columns = [f\"left_hand_{i}\" for i in range(max_left_hand_index + 1)]\n",
    "right_hand_columns = [f\"right_hand_{i}\" for i in range(max_right_hand_index + 1)]\n",
    "pose_columns = [f\"pose_{i}\" for i in range(max_pose_index + 1)]\n",
    "\n",
    "\n",
    "# Combine all column headers into a single list\n",
    "all_columns = [\"frame\"] + \\\n",
    "              [f\"{col}_{coord}\" for col in face_columns for coord in ['x', 'y']] + \\\n",
    "              [f\"{col}_{coord}\" for col in left_hand_columns for coord in ['x', 'y']] + \\\n",
    "              [f\"{col}_{coord}\" for col in right_hand_columns for coord in ['x', 'y']] + \\\n",
    "              [f\"{col}_{coord}\" for col in pose_columns for coord in ['x', 'y']] + \\\n",
    "              ['label']\n",
    "\n"
   ]
  },
  {
   "cell_type": "code",
   "execution_count": null,
   "metadata": {},
   "outputs": [],
   "source": [
    "all_columns"
   ]
  },
  {
   "cell_type": "markdown",
   "metadata": {},
   "source": [
    "### Load dataset"
   ]
  },
  {
   "cell_type": "code",
   "execution_count": 4,
   "metadata": {},
   "outputs": [],
   "source": [
    "train_df = pd.read_csv('train.csv')"
   ]
  },
  {
   "cell_type": "code",
   "execution_count": 5,
   "metadata": {},
   "outputs": [],
   "source": [
    "selected_words = [\"TV\", \"after\",  \"all\", \"alligator\", \"animal\", \"another\", \"any\", \"apple\", \"arm\"]\n",
    "# selected_words = [\"TV\", \"after\", \"airplane\", \"all\", \"alligator\"]\n",
    "\n",
    "# Filter the dataframe to include only the selected words\n",
    "filtered_df = train_df[train_df['sign'].isin(selected_words)]\n",
    "\n",
    "# Group by 'sign' and select 10 sequences for each word\n",
    "sub_df = filtered_df.groupby('sign').head(5)"
   ]
  },
  {
   "cell_type": "markdown",
   "metadata": {},
   "source": [
    "### Write Data to CSV"
   ]
  },
  {
   "cell_type": "code",
   "execution_count": 6,
   "metadata": {},
   "outputs": [
    {
     "name": "stdout",
     "output_type": "stream",
     "text": [
      "Data has been successfully written to transformed_data.csv\n"
     ]
    }
   ],
   "source": [
    "\n",
    "\n",
    "# Initialize an empty list to store all rows of data\n",
    "all_rows = []\n",
    "\n",
    "# Iterate through each row in sub_df\n",
    "for index, row in sub_df.iterrows():\n",
    "    path = row['path']\n",
    "    label = row['sign']\n",
    "    \n",
    "    # Read the Parquet file using PyArrow\n",
    "    table = pq.read_table(path)\n",
    "    \n",
    "    # Convert PyArrow Table to Pandas DataFrame\n",
    "    df = table.to_pandas()\n",
    "    \n",
    "    # Initialize a list to store rows of data\n",
    "    rows = []\n",
    "    \n",
    "    # Iterate through each unique frame\n",
    "    for frame in df['frame'].unique():\n",
    "        # Filter rows for the current frame\n",
    "        subset_df = df[df['frame'] == frame]\n",
    "        \n",
    "        # Initialize dictionaries to store landmarks\n",
    "        face_dict = {}\n",
    "        left_hand_dict = {}\n",
    "        right_hand_dict = {}\n",
    "        pose_dict = {}\n",
    "        \n",
    "        # Iterate through rows in subset_df and populate dictionaries\n",
    "        for idx, row in subset_df.iterrows():\n",
    "            landmark_type = row['type']\n",
    "            landmark_index = row['landmark_index']\n",
    "            x = row['x']\n",
    "            y = row['y']\n",
    "            # z = row['z']\n",
    "            \n",
    "            if landmark_type == 'face':\n",
    "                face_dict[f\"face_{landmark_index}_x\"] = x\n",
    "                face_dict[f\"face_{landmark_index}_y\"] = y\n",
    "                # face_dict[f\"face_{landmark_index}_z\"] = z\n",
    "            elif landmark_type == 'left_hand':\n",
    "                left_hand_dict[f\"left_hand_{landmark_index}_x\"] = x\n",
    "                left_hand_dict[f\"left_hand_{landmark_index}_y\"] = y\n",
    "                # left_hand_dict[f\"left_hand_{landmark_index}_z\"] = z\n",
    "            elif landmark_type == 'right_hand':\n",
    "                right_hand_dict[f\"right_hand_{landmark_index}_x\"] = x\n",
    "                right_hand_dict[f\"right_hand_{landmark_index}_y\"] = y\n",
    "                # right_hand_dict[f\"right_hand_{landmark_index}_z\"] = z\n",
    "            elif landmark_type == 'pose':\n",
    "                pose_dict[f\"pose_{landmark_index}_x\"] = x\n",
    "                pose_dict[f\"pose_{landmark_index}_y\"] = y\n",
    "                # pose_dict[f\"pose_{landmark_index}_z\"] = z\n",
    "        \n",
    "        # Combine dictionaries into a single row of data\n",
    "        row_data = {\n",
    "            'frame': frame,\n",
    "            **face_dict,\n",
    "            **left_hand_dict,\n",
    "            **right_hand_dict,\n",
    "            **pose_dict,\n",
    "            'label': label,\n",
    "        }\n",
    "        \n",
    "        # Append row_data to rows list\n",
    "        rows.append(row_data)\n",
    "    \n",
    "    # Extend rows to all_rows\n",
    "    all_rows.extend(rows)\n",
    "\n",
    "# Define CSV file path\n",
    "csv_file = 'transformed_data.csv'\n",
    "\n",
    "# Define column headers as the union of keys from all row_data dictionaries\n",
    "# header = ['frame'] + sorted(set().union(*(row.keys() for row in all_rows)))\n",
    "\n",
    "# Write rows to CSV file\n",
    "with open(csv_file, 'w', newline='') as f:\n",
    "    writer = csv.DictWriter(f, fieldnames=all_columns)\n",
    "    writer.writeheader()\n",
    "    \n",
    "    # Iterate through all_rows and write each row to CSV\n",
    "    for row_data in all_rows:\n",
    "        # Round numerical values to 3 decimal places\n",
    "        rounded_row_data = {key: round(value, 6) if isinstance(value, (int, float)) else value for key, value in row_data.items()}\n",
    "        \n",
    "        # Replace NaN values with 0.0\n",
    "        cleaned_row_data = {key: (0.0 if pd.isna(value) else value) for key, value in rounded_row_data.items()}\n",
    "        \n",
    "        # Write the row to CSV\n",
    "        writer.writerow(cleaned_row_data)\n",
    "\n",
    "print(f\"Data has been successfully written to {csv_file}\")\n"
   ]
  }
 ],
 "metadata": {
  "kernelspec": {
   "display_name": "env",
   "language": "python",
   "name": "python3"
  },
  "language_info": {
   "codemirror_mode": {
    "name": "ipython",
    "version": 3
   },
   "file_extension": ".py",
   "mimetype": "text/x-python",
   "name": "python",
   "nbconvert_exporter": "python",
   "pygments_lexer": "ipython3",
   "version": "3.10.0"
  }
 },
 "nbformat": 4,
 "nbformat_minor": 2
}
