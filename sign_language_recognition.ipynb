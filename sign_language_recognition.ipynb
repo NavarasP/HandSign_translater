{
 "cells": [
  {
   "cell_type": "markdown",
   "metadata": {},
   "source": [
    "# Sign Language Recognition with RNN\n",
    "\n",
    "This notebook trains an RNN model to recognize sign language from landmark data extracted using MediaPipe."
   ]
  },
  {
   "cell_type": "code",
   "execution_count": 1,
   "metadata": {},
   "outputs": [],
   "source": [
    "import pandas as pd\n",
    "import numpy as np\n",
    "import tensorflow as tf\n",
    "\n",
    "from sklearn.preprocessing import LabelEncoder\n",
    "from tensorflow.keras.preprocessing.sequence import pad_sequences\n"
   ]
  },
  {
   "cell_type": "code",
   "execution_count": 2,
   "metadata": {},
   "outputs": [
    {
     "name": "stdout",
     "output_type": "stream",
     "text": [
      "PhysicalDevice(name='/physical_device:GPU:0', device_type='GPU')\n"
     ]
    }
   ],
   "source": [
    "gpus = tf.config.list_physical_devices('GPU')\n",
    "if gpus:\n",
    "    try:\n",
    "        for gpu in gpus:\n",
    "            tf.config.experimental.set_memory_growth(gpu, True)\n",
    "            print(gpu)\n",
    "    except RuntimeError as e:\n",
    "        print('error'+ e)\n"
   ]
  },
  {
   "cell_type": "code",
   "execution_count": 3,
   "metadata": {},
   "outputs": [
    {
     "data": {
      "text/plain": [
       "<weakproxy at 0x000001E139519AD0 to Device at 0x000001E139504460>"
      ]
     },
     "execution_count": 3,
     "metadata": {},
     "output_type": "execute_result"
    }
   ],
   "source": [
    "from numba import cuda\n",
    "\n",
    "cuda.select_device(0)\n",
    "cuda.close()\n",
    "cuda.select_device(0)\n"
   ]
  },
  {
   "cell_type": "markdown",
   "metadata": {},
   "source": [
    "## Load Preprocessed Data"
   ]
  },
  {
   "cell_type": "code",
   "execution_count": 4,
   "metadata": {},
   "outputs": [],
   "source": [
    "df = pd.read_csv('Dataset_CSVs/transformed_data.csv')"
   ]
  },
  {
   "cell_type": "code",
   "execution_count": 5,
   "metadata": {},
   "outputs": [
    {
     "name": "stdout",
     "output_type": "stream",
     "text": [
      "   frame  face_0_x  face_0_y  face_1_x  face_1_y  face_2_x  face_2_y  \\\n",
      "0     18  0.446865  0.556099  0.435207  0.519262  0.438583  0.531356   \n",
      "1     19  0.446033  0.553307  0.436424  0.516476  0.439572  0.528051   \n",
      "2     20  0.444841  0.553031  0.435007  0.517342  0.438359  0.528179   \n",
      "3     21  0.438405  0.555483  0.432000  0.517451  0.435937  0.529129   \n",
      "4     22  0.436116  0.555547  0.432138  0.518918  0.435548  0.530537   \n",
      "\n",
      "   face_3_x  face_3_y  face_4_x  ...  pose_28_y  pose_29_x  pose_29_y  \\\n",
      "0  0.423945  0.494480  0.433858  ...   2.011694   0.634389   2.089952   \n",
      "1  0.424151  0.491375  0.434981  ...   1.971428   0.645629   2.029157   \n",
      "2  0.422074  0.491810  0.433355  ...   1.979363   0.668940   2.030304   \n",
      "3  0.419451  0.492080  0.430299  ...   2.013071   0.677119   2.062510   \n",
      "4  0.419620  0.492879  0.430561  ...   2.030979   0.676004   2.079525   \n",
      "\n",
      "   pose_30_x  pose_30_y  pose_31_x  pose_31_y  pose_32_x  pose_32_y  label  \n",
      "0   0.285221   2.081855   0.559667   2.169359   0.337072   2.136794  apple  \n",
      "1   0.342440   2.034174   0.578849   2.124331   0.372139   2.116150  apple  \n",
      "2   0.375388   2.041357   0.595848   2.134077   0.396699   2.132892  apple  \n",
      "3   0.373885   2.078512   0.616117   2.169481   0.414900   2.146244  apple  \n",
      "4   0.365698   2.098875   0.618020   2.179021   0.410472   2.154212  apple  \n",
      "\n",
      "[5 rows x 1088 columns]\n"
     ]
    }
   ],
   "source": [
    "print(df.head())"
   ]
  },
  {
   "cell_type": "code",
   "execution_count": 6,
   "metadata": {},
   "outputs": [
    {
     "name": "stdout",
     "output_type": "stream",
     "text": [
      "<class 'pandas.core.frame.DataFrame'>\n",
      "RangeIndex: 1634 entries, 0 to 1633\n",
      "Columns: 1088 entries, frame to label\n",
      "dtypes: float64(1086), int64(1), object(1)\n",
      "memory usage: 13.6+ MB\n"
     ]
    }
   ],
   "source": [
    "df.info()"
   ]
  },
  {
   "cell_type": "code",
   "execution_count": 7,
   "metadata": {},
   "outputs": [
    {
     "data": {
      "text/plain": [
       "(1634, 1088)"
      ]
     },
     "execution_count": 7,
     "metadata": {},
     "output_type": "execute_result"
    }
   ],
   "source": [
    "df.shape"
   ]
  },
  {
   "cell_type": "code",
   "execution_count": 8,
   "metadata": {},
   "outputs": [],
   "source": [
    "from sklearn.model_selection import train_test_split\n",
    "from sklearn.preprocessing import StandardScaler\n",
    "from tensorflow.keras.models import Sequential\n",
    "from tensorflow.keras.layers import LSTM, Dense\n",
    "from sklearn.preprocessing import LabelEncoder, OneHotEncoder\n",
    "import pickle\n",
    "\n"
   ]
  },
  {
   "cell_type": "code",
   "execution_count": 9,
   "metadata": {},
   "outputs": [
    {
     "name": "stdout",
     "output_type": "stream",
     "text": [
      "Epoch 1/100\n",
      "41/41 [==============================] - 8s 24ms/step - loss: 1.3455 - accuracy: 0.6121 - val_loss: 1.0303 - val_accuracy: 0.6850\n",
      "Epoch 2/100\n",
      "41/41 [==============================] - 0s 8ms/step - loss: 0.9276 - accuracy: 0.7774 - val_loss: 0.8108 - val_accuracy: 0.8196\n",
      "Epoch 3/100\n",
      "41/41 [==============================] - 0s 6ms/step - loss: 0.7315 - accuracy: 0.8531 - val_loss: 0.6530 - val_accuracy: 0.8624\n",
      "Epoch 4/100\n",
      "41/41 [==============================] - 0s 6ms/step - loss: 0.5899 - accuracy: 0.8814 - val_loss: 0.5204 - val_accuracy: 0.9021\n",
      "Epoch 5/100\n",
      "41/41 [==============================] - 0s 6ms/step - loss: 0.4815 - accuracy: 0.8975 - val_loss: 0.4290 - val_accuracy: 0.9052\n",
      "Epoch 6/100\n",
      "41/41 [==============================] - 0s 6ms/step - loss: 0.3988 - accuracy: 0.9166 - val_loss: 0.3623 - val_accuracy: 0.9235\n",
      "Epoch 7/100\n",
      "41/41 [==============================] - 0s 6ms/step - loss: 0.3432 - accuracy: 0.9357 - val_loss: 0.3154 - val_accuracy: 0.9388\n",
      "Epoch 8/100\n",
      "41/41 [==============================] - 0s 5ms/step - loss: 0.3002 - accuracy: 0.9449 - val_loss: 0.2756 - val_accuracy: 0.9450\n",
      "Epoch 9/100\n",
      "41/41 [==============================] - 0s 6ms/step - loss: 0.2643 - accuracy: 0.9510 - val_loss: 0.2430 - val_accuracy: 0.9633\n",
      "Epoch 10/100\n",
      "41/41 [==============================] - 0s 6ms/step - loss: 0.2350 - accuracy: 0.9625 - val_loss: 0.2247 - val_accuracy: 0.9572\n",
      "Epoch 11/100\n",
      "41/41 [==============================] - 0s 5ms/step - loss: 0.2077 - accuracy: 0.9702 - val_loss: 0.1880 - val_accuracy: 0.9694\n",
      "Epoch 12/100\n",
      "41/41 [==============================] - 0s 6ms/step - loss: 0.1818 - accuracy: 0.9755 - val_loss: 0.1680 - val_accuracy: 0.9786\n",
      "Epoch 13/100\n",
      "41/41 [==============================] - 0s 5ms/step - loss: 0.1624 - accuracy: 0.9809 - val_loss: 0.1565 - val_accuracy: 0.9817\n",
      "Epoch 14/100\n",
      "41/41 [==============================] - 0s 6ms/step - loss: 0.1468 - accuracy: 0.9832 - val_loss: 0.1479 - val_accuracy: 0.9908\n",
      "Epoch 15/100\n",
      "41/41 [==============================] - 0s 6ms/step - loss: 0.1414 - accuracy: 0.9855 - val_loss: 0.1383 - val_accuracy: 0.9847\n",
      "Epoch 16/100\n",
      "41/41 [==============================] - 0s 6ms/step - loss: 0.1269 - accuracy: 0.9870 - val_loss: 0.1238 - val_accuracy: 0.9847\n",
      "Epoch 17/100\n",
      "41/41 [==============================] - 0s 6ms/step - loss: 0.1131 - accuracy: 0.9878 - val_loss: 0.1103 - val_accuracy: 0.9878\n",
      "Epoch 18/100\n",
      "41/41 [==============================] - 0s 6ms/step - loss: 0.1104 - accuracy: 0.9885 - val_loss: 0.1062 - val_accuracy: 0.9878\n",
      "Epoch 19/100\n",
      "41/41 [==============================] - 0s 6ms/step - loss: 0.1002 - accuracy: 0.9901 - val_loss: 0.0959 - val_accuracy: 0.9939\n",
      "Epoch 20/100\n",
      "41/41 [==============================] - 0s 6ms/step - loss: 0.0927 - accuracy: 0.9908 - val_loss: 0.0940 - val_accuracy: 0.9878\n",
      "Epoch 21/100\n",
      "41/41 [==============================] - 0s 7ms/step - loss: 0.0829 - accuracy: 0.9916 - val_loss: 0.0910 - val_accuracy: 0.9878\n",
      "Epoch 22/100\n",
      "41/41 [==============================] - 0s 6ms/step - loss: 0.0824 - accuracy: 0.9908 - val_loss: 0.0826 - val_accuracy: 0.9878\n",
      "Epoch 23/100\n",
      "41/41 [==============================] - 0s 7ms/step - loss: 0.0760 - accuracy: 0.9923 - val_loss: 0.0775 - val_accuracy: 0.9878\n",
      "Epoch 24/100\n",
      "41/41 [==============================] - 0s 10ms/step - loss: 0.0706 - accuracy: 0.9923 - val_loss: 0.0776 - val_accuracy: 0.9878\n",
      "Epoch 25/100\n",
      "41/41 [==============================] - 0s 10ms/step - loss: 0.0656 - accuracy: 0.9923 - val_loss: 0.0725 - val_accuracy: 0.9878\n",
      "Epoch 26/100\n",
      "41/41 [==============================] - 0s 11ms/step - loss: 0.0725 - accuracy: 0.9901 - val_loss: 0.0781 - val_accuracy: 0.9878\n",
      "Epoch 27/100\n",
      "41/41 [==============================] - 1s 20ms/step - loss: 0.0627 - accuracy: 0.9923 - val_loss: 0.0648 - val_accuracy: 0.9908\n",
      "Epoch 28/100\n",
      "41/41 [==============================] - 0s 10ms/step - loss: 0.0561 - accuracy: 0.9939 - val_loss: 0.0663 - val_accuracy: 0.9878\n",
      "Epoch 29/100\n",
      "41/41 [==============================] - 0s 11ms/step - loss: 0.0537 - accuracy: 0.9931 - val_loss: 0.0620 - val_accuracy: 0.9878\n",
      "Epoch 30/100\n",
      "41/41 [==============================] - 1s 14ms/step - loss: 0.0531 - accuracy: 0.9946 - val_loss: 0.0589 - val_accuracy: 0.9878\n",
      "Epoch 31/100\n",
      "41/41 [==============================] - 0s 10ms/step - loss: 0.0482 - accuracy: 0.9946 - val_loss: 0.0601 - val_accuracy: 0.9878\n",
      "Epoch 32/100\n",
      "41/41 [==============================] - 1s 14ms/step - loss: 0.0470 - accuracy: 0.9954 - val_loss: 0.0519 - val_accuracy: 0.9908\n",
      "Epoch 33/100\n",
      "41/41 [==============================] - 1s 13ms/step - loss: 0.0451 - accuracy: 0.9954 - val_loss: 0.0510 - val_accuracy: 0.9878\n",
      "Epoch 34/100\n",
      "41/41 [==============================] - 0s 11ms/step - loss: 0.0427 - accuracy: 0.9954 - val_loss: 0.0477 - val_accuracy: 0.9908\n",
      "Epoch 35/100\n",
      "41/41 [==============================] - 0s 10ms/step - loss: 0.0427 - accuracy: 0.9946 - val_loss: 0.0581 - val_accuracy: 0.9878\n",
      "Epoch 36/100\n",
      "41/41 [==============================] - 0s 10ms/step - loss: 0.0433 - accuracy: 0.9946 - val_loss: 0.0494 - val_accuracy: 0.9878\n",
      "Epoch 37/100\n",
      "41/41 [==============================] - 0s 10ms/step - loss: 0.0395 - accuracy: 0.9954 - val_loss: 0.0570 - val_accuracy: 0.9878\n",
      "Epoch 38/100\n",
      "41/41 [==============================] - 0s 10ms/step - loss: 0.0406 - accuracy: 0.9954 - val_loss: 0.0460 - val_accuracy: 0.9908\n",
      "Epoch 39/100\n",
      "41/41 [==============================] - 0s 8ms/step - loss: 0.0397 - accuracy: 0.9931 - val_loss: 0.0487 - val_accuracy: 0.9908\n",
      "Epoch 40/100\n",
      "41/41 [==============================] - 0s 8ms/step - loss: 0.0412 - accuracy: 0.9939 - val_loss: 0.0438 - val_accuracy: 0.9908\n",
      "Epoch 41/100\n",
      "41/41 [==============================] - 0s 10ms/step - loss: 0.0376 - accuracy: 0.9946 - val_loss: 0.0479 - val_accuracy: 0.9878\n",
      "Epoch 42/100\n",
      "41/41 [==============================] - 0s 11ms/step - loss: 0.0397 - accuracy: 0.9931 - val_loss: 0.0444 - val_accuracy: 0.9908\n",
      "Epoch 43/100\n",
      "41/41 [==============================] - 0s 10ms/step - loss: 0.0345 - accuracy: 0.9954 - val_loss: 0.0405 - val_accuracy: 0.9908\n",
      "Epoch 44/100\n",
      "41/41 [==============================] - 0s 11ms/step - loss: 0.0329 - accuracy: 0.9954 - val_loss: 0.0411 - val_accuracy: 0.9908\n",
      "Epoch 45/100\n",
      "41/41 [==============================] - 0s 8ms/step - loss: 0.0344 - accuracy: 0.9946 - val_loss: 0.0399 - val_accuracy: 0.9908\n",
      "Epoch 46/100\n",
      "41/41 [==============================] - 0s 7ms/step - loss: 0.0313 - accuracy: 0.9954 - val_loss: 0.0423 - val_accuracy: 0.9878\n",
      "Epoch 47/100\n",
      "41/41 [==============================] - 0s 7ms/step - loss: 0.0294 - accuracy: 0.9954 - val_loss: 0.0366 - val_accuracy: 0.9908\n",
      "Epoch 48/100\n",
      "41/41 [==============================] - 0s 7ms/step - loss: 0.0305 - accuracy: 0.9946 - val_loss: 0.0362 - val_accuracy: 0.9908\n",
      "Epoch 49/100\n",
      "41/41 [==============================] - 0s 7ms/step - loss: 0.0284 - accuracy: 0.9954 - val_loss: 0.0565 - val_accuracy: 0.9847\n",
      "Epoch 50/100\n",
      "41/41 [==============================] - 0s 8ms/step - loss: 0.0322 - accuracy: 0.9946 - val_loss: 0.0371 - val_accuracy: 0.9908\n",
      "Epoch 51/100\n",
      "41/41 [==============================] - 0s 9ms/step - loss: 0.0287 - accuracy: 0.9954 - val_loss: 0.0344 - val_accuracy: 0.9908\n",
      "Epoch 52/100\n",
      "41/41 [==============================] - 0s 11ms/step - loss: 0.0268 - accuracy: 0.9954 - val_loss: 0.0372 - val_accuracy: 0.9878\n",
      "Epoch 53/100\n",
      "41/41 [==============================] - 0s 9ms/step - loss: 0.0295 - accuracy: 0.9946 - val_loss: 0.0387 - val_accuracy: 0.9878\n",
      "Epoch 54/100\n",
      "41/41 [==============================] - 0s 9ms/step - loss: 0.0261 - accuracy: 0.9954 - val_loss: 0.0349 - val_accuracy: 0.9908\n",
      "Epoch 55/100\n",
      "41/41 [==============================] - 0s 8ms/step - loss: 0.0287 - accuracy: 0.9946 - val_loss: 0.0342 - val_accuracy: 0.9908\n",
      "Epoch 56/100\n",
      "41/41 [==============================] - 0s 8ms/step - loss: 0.0283 - accuracy: 0.9939 - val_loss: 0.0343 - val_accuracy: 0.9908\n",
      "Epoch 57/100\n",
      "41/41 [==============================] - 0s 8ms/step - loss: 0.0270 - accuracy: 0.9946 - val_loss: 0.0349 - val_accuracy: 0.9908\n",
      "Epoch 58/100\n",
      "41/41 [==============================] - 0s 9ms/step - loss: 0.0366 - accuracy: 0.9908 - val_loss: 0.0572 - val_accuracy: 0.9817\n",
      "Epoch 59/100\n",
      "41/41 [==============================] - 0s 7ms/step - loss: 0.0364 - accuracy: 0.9931 - val_loss: 0.0482 - val_accuracy: 0.9878\n",
      "Epoch 60/100\n",
      "41/41 [==============================] - 0s 7ms/step - loss: 0.0289 - accuracy: 0.9954 - val_loss: 0.0360 - val_accuracy: 0.9908\n",
      "Epoch 61/100\n",
      "41/41 [==============================] - 0s 7ms/step - loss: 0.0259 - accuracy: 0.9954 - val_loss: 0.0470 - val_accuracy: 0.9847\n",
      "Epoch 62/100\n",
      "41/41 [==============================] - 0s 8ms/step - loss: 0.0256 - accuracy: 0.9954 - val_loss: 0.0304 - val_accuracy: 0.9939\n",
      "Epoch 63/100\n",
      "41/41 [==============================] - 1s 13ms/step - loss: 0.0251 - accuracy: 0.9946 - val_loss: 0.0339 - val_accuracy: 0.9939\n",
      "Epoch 64/100\n",
      "41/41 [==============================] - 0s 10ms/step - loss: 0.0280 - accuracy: 0.9939 - val_loss: 0.0343 - val_accuracy: 0.9908\n",
      "Epoch 65/100\n",
      "41/41 [==============================] - 0s 10ms/step - loss: 0.0239 - accuracy: 0.9954 - val_loss: 0.0296 - val_accuracy: 0.9908\n",
      "Epoch 66/100\n",
      "41/41 [==============================] - 0s 12ms/step - loss: 0.0241 - accuracy: 0.9946 - val_loss: 0.0296 - val_accuracy: 0.9908\n",
      "Epoch 67/100\n",
      "41/41 [==============================] - 1s 13ms/step - loss: 0.0219 - accuracy: 0.9954 - val_loss: 0.0290 - val_accuracy: 0.9908\n",
      "Epoch 68/100\n",
      "41/41 [==============================] - 0s 12ms/step - loss: 0.0213 - accuracy: 0.9954 - val_loss: 0.0286 - val_accuracy: 0.9908\n",
      "Epoch 69/100\n",
      "41/41 [==============================] - 0s 10ms/step - loss: 0.0211 - accuracy: 0.9954 - val_loss: 0.0284 - val_accuracy: 0.9908\n",
      "Epoch 70/100\n",
      "41/41 [==============================] - 0s 8ms/step - loss: 0.0206 - accuracy: 0.9954 - val_loss: 0.0278 - val_accuracy: 0.9908\n",
      "Epoch 71/100\n",
      "41/41 [==============================] - 0s 8ms/step - loss: 0.0204 - accuracy: 0.9954 - val_loss: 0.0283 - val_accuracy: 0.9908\n",
      "Epoch 72/100\n",
      "41/41 [==============================] - 0s 9ms/step - loss: 0.0202 - accuracy: 0.9954 - val_loss: 0.0276 - val_accuracy: 0.9908\n",
      "Epoch 73/100\n",
      "41/41 [==============================] - 0s 8ms/step - loss: 0.0198 - accuracy: 0.9954 - val_loss: 0.0272 - val_accuracy: 0.9908\n",
      "Epoch 74/100\n",
      "41/41 [==============================] - 0s 8ms/step - loss: 0.0195 - accuracy: 0.9954 - val_loss: 0.0272 - val_accuracy: 0.9908\n",
      "Epoch 75/100\n",
      "41/41 [==============================] - 0s 12ms/step - loss: 0.0192 - accuracy: 0.9954 - val_loss: 0.0269 - val_accuracy: 0.9908\n",
      "Epoch 76/100\n",
      "41/41 [==============================] - 0s 8ms/step - loss: 0.0191 - accuracy: 0.9954 - val_loss: 0.0271 - val_accuracy: 0.9908\n",
      "Epoch 77/100\n",
      "41/41 [==============================] - 0s 8ms/step - loss: 0.0188 - accuracy: 0.9954 - val_loss: 0.0268 - val_accuracy: 0.9908\n",
      "Epoch 78/100\n",
      "41/41 [==============================] - 0s 7ms/step - loss: 0.0186 - accuracy: 0.9954 - val_loss: 0.0269 - val_accuracy: 0.9908\n",
      "Epoch 79/100\n",
      "41/41 [==============================] - 0s 7ms/step - loss: 0.0185 - accuracy: 0.9954 - val_loss: 0.0265 - val_accuracy: 0.9908\n",
      "Epoch 80/100\n",
      "41/41 [==============================] - 0s 6ms/step - loss: 0.0182 - accuracy: 0.9954 - val_loss: 0.0263 - val_accuracy: 0.9908\n",
      "Epoch 81/100\n",
      "41/41 [==============================] - 0s 7ms/step - loss: 0.0180 - accuracy: 0.9954 - val_loss: 0.0261 - val_accuracy: 0.9908\n",
      "Epoch 82/100\n",
      "41/41 [==============================] - 0s 8ms/step - loss: 0.0181 - accuracy: 0.9954 - val_loss: 0.0253 - val_accuracy: 0.9908\n",
      "Epoch 83/100\n",
      "41/41 [==============================] - 0s 9ms/step - loss: 0.0187 - accuracy: 0.9954 - val_loss: 0.0445 - val_accuracy: 0.9847\n",
      "Epoch 84/100\n",
      "41/41 [==============================] - 0s 9ms/step - loss: 0.0233 - accuracy: 0.9939 - val_loss: 0.0360 - val_accuracy: 0.9878\n",
      "Epoch 85/100\n",
      "41/41 [==============================] - 0s 8ms/step - loss: 0.0214 - accuracy: 0.9946 - val_loss: 0.0308 - val_accuracy: 0.9908\n",
      "Epoch 86/100\n",
      "41/41 [==============================] - 0s 8ms/step - loss: 0.0192 - accuracy: 0.9954 - val_loss: 0.0347 - val_accuracy: 0.9878\n",
      "Epoch 87/100\n",
      "41/41 [==============================] - 0s 8ms/step - loss: 0.0214 - accuracy: 0.9946 - val_loss: 0.0319 - val_accuracy: 0.9878\n",
      "Epoch 88/100\n",
      "41/41 [==============================] - 0s 8ms/step - loss: 0.0197 - accuracy: 0.9954 - val_loss: 0.0294 - val_accuracy: 0.9908\n",
      "Epoch 89/100\n",
      "41/41 [==============================] - 0s 9ms/step - loss: 0.0204 - accuracy: 0.9954 - val_loss: 0.0295 - val_accuracy: 0.9908\n",
      "Epoch 90/100\n",
      "41/41 [==============================] - 0s 9ms/step - loss: 0.0227 - accuracy: 0.9939 - val_loss: 0.0374 - val_accuracy: 0.9878\n",
      "Epoch 91/100\n",
      "41/41 [==============================] - 0s 8ms/step - loss: 0.0208 - accuracy: 0.9939 - val_loss: 0.0298 - val_accuracy: 0.9908\n",
      "Epoch 92/100\n",
      "41/41 [==============================] - 0s 11ms/step - loss: 0.0232 - accuracy: 0.9939 - val_loss: 0.0312 - val_accuracy: 0.9908\n",
      "Epoch 93/100\n",
      "41/41 [==============================] - 0s 8ms/step - loss: 0.0188 - accuracy: 0.9954 - val_loss: 0.0270 - val_accuracy: 0.9908\n",
      "Epoch 94/100\n",
      "41/41 [==============================] - 0s 8ms/step - loss: 0.0176 - accuracy: 0.9954 - val_loss: 0.0353 - val_accuracy: 0.9878\n",
      "Epoch 95/100\n",
      "41/41 [==============================] - 0s 9ms/step - loss: 0.0169 - accuracy: 0.9954 - val_loss: 0.0252 - val_accuracy: 0.9908\n",
      "Epoch 96/100\n",
      "41/41 [==============================] - 0s 9ms/step - loss: 0.0172 - accuracy: 0.9954 - val_loss: 0.0308 - val_accuracy: 0.9908\n",
      "Epoch 97/100\n",
      "41/41 [==============================] - 0s 8ms/step - loss: 0.0163 - accuracy: 0.9954 - val_loss: 0.0269 - val_accuracy: 0.9908\n",
      "Epoch 98/100\n",
      "41/41 [==============================] - 0s 8ms/step - loss: 0.0159 - accuracy: 0.9954 - val_loss: 0.0272 - val_accuracy: 0.9908\n",
      "Epoch 99/100\n",
      "41/41 [==============================] - 0s 7ms/step - loss: 0.0158 - accuracy: 0.9954 - val_loss: 0.0265 - val_accuracy: 0.9908\n",
      "Epoch 100/100\n",
      "41/41 [==============================] - 0s 6ms/step - loss: 0.0157 - accuracy: 0.9954 - val_loss: 0.0253 - val_accuracy: 0.9908\n",
      "11/11 [==============================] - 0s 3ms/step - loss: 0.0253 - accuracy: 0.9908\n",
      "Validation Loss: 0.025307215750217438, Validation Accuracy: 0.9908257126808167\n"
     ]
    }
   ],
   "source": [
    "\n",
    "\n",
    "# Extract features (X) and labels (y)\n",
    "X = df.drop(columns=['label', 'frame']).values  # Assuming 'label' is the target column\n",
    "y = df['label'].values\n",
    "\n",
    "# Normalize features (optional but recommended)\n",
    "scaler = StandardScaler()\n",
    "X = scaler.fit_transform(X)\n",
    "\n",
    "# Reshape X for RNN input: (samples, time steps, features)\n",
    "# Example assumes 1 time step (one frame per sequence), adjust as per your RNN architecture\n",
    "X = X.reshape(X.shape[0], 1, X.shape[1])\n",
    "\n",
    "# Split data into training and validation sets\n",
    "X_train, X_val, y_train, y_val = train_test_split(X, y, test_size=0.2, random_state=42)\n",
    "\n",
    "# Assuming y_train and y_val are categorical (strings or integers)\n",
    "label_encoder = LabelEncoder()\n",
    "y_train_encoded = label_encoder.fit_transform(y_train)\n",
    "y_val_encoded = label_encoder.transform(y_val)\n",
    "\n",
    "# One-hot encode the categorical labels\n",
    "onehot_encoder = OneHotEncoder(sparse_output=False)\n",
    "y_train_onehot = onehot_encoder.fit_transform(y_train_encoded.reshape(-1, 1))\n",
    "y_val_onehot = onehot_encoder.transform(y_val_encoded.reshape(-1, 1))\n",
    "\n",
    "\n",
    "with open('Models/label_encoder.pkl', 'wb') as file:\n",
    "    pickle.dump(label_encoder, file)\n",
    "\n",
    "# Save the OneHotEncoder\n",
    "with open('Models/onehot_encoder.pkl', 'wb') as file:\n",
    "    pickle.dump(onehot_encoder, file)\n",
    "\n",
    "# Define the model with appropriate output units and loss function for classification\n",
    "model = Sequential([\n",
    "    LSTM(units=50, input_shape=(X.shape[1], X.shape[2])),\n",
    "    Dense(units=y_train_onehot.shape[1], activation='softmax')  # Adjust units and activation as per your classification needs\n",
    "])\n",
    "\n",
    "model.compile(optimizer='adam', loss='categorical_crossentropy', metrics=['accuracy'])\n",
    "\n",
    "# Train the model\n",
    "history = model.fit(X_train, y_train_onehot, epochs=100, batch_size=32, validation_data=(X_val, y_val_onehot))\n",
    "\n",
    "# Evaluate the model\n",
    "loss, accuracy = model.evaluate(X_val, y_val_onehot)\n",
    "print(f\"Validation Loss: {loss}, Validation Accuracy: {accuracy}\")\n"
   ]
  },
  {
   "cell_type": "code",
   "execution_count": null,
   "metadata": {},
   "outputs": [],
   "source": []
  },
  {
   "cell_type": "code",
   "execution_count": 10,
   "metadata": {},
   "outputs": [],
   "source": [
    "model.save('Models/my_model.h5')"
   ]
  }
 ],
 "metadata": {
  "kernelspec": {
   "display_name": "Python 3",
   "language": "python",
   "name": "python3"
  },
  "language_info": {
   "codemirror_mode": {
    "name": "ipython",
    "version": 3
   },
   "file_extension": ".py",
   "mimetype": "text/x-python",
   "name": "python",
   "nbconvert_exporter": "python",
   "pygments_lexer": "ipython3",
   "version": "3.10.0"
  }
 },
 "nbformat": 4,
 "nbformat_minor": 4
}
